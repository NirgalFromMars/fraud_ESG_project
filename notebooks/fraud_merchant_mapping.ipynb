{
 "cells": [
  {
   "cell_type": "code",
   "execution_count": 1,
   "id": "00b4e2a4-390b-4614-8c3c-dc41c783f245",
   "metadata": {},
   "outputs": [],
   "source": [
    "import pandas as pd\n",
    "fraud = pd.read_csv(\"./kaggle__fraud_transactions/fraudTrain.csv\", encoding=\"latin1\")"
   ]
  },
  {
   "cell_type": "code",
   "execution_count": 19,
   "id": "fb9e7ab7-3ef3-4a5c-8fda-8795ac278d04",
   "metadata": {},
   "outputs": [],
   "source": [
    "lst1 = list(fraud[\"merchant\"].unique())\n",
    "lst2 = list(range(1, 694))"
   ]
  },
  {
   "cell_type": "code",
   "execution_count": 20,
   "id": "d2dd1a67-fa81-453e-b553-87b19e723775",
   "metadata": {},
   "outputs": [],
   "source": [
    "fraud_merchant_mapping =pd.DataFrame(\n",
    "                            {'merchant': lst1,\n",
    "                             'company_id': lst2})\n",
    "\n",
    "fraud_merchant_mapping.to_csv(\"fraud_merchant_mapping.csv\", sep=';', index=False, encoding=\"utf-8\")"
   ]
  },
  {
   "cell_type": "code",
   "execution_count": 23,
   "id": "a691b030-5adb-4432-8fc8-2230952784ba",
   "metadata": {},
   "outputs": [],
   "source": [
    "fraudTrain_reduced = fraud[['trans_date_trans_time','cc_num', 'merchant', 'amt', 'trans_num', 'is_fraud']]\n",
    "fraudTrain_reduced.to_csv(\"fraudTrain_reduced.csv\", sep=';', index=False, encoding=\"utf-8\")"
   ]
  },
  {
   "cell_type": "code",
   "execution_count": 2,
   "id": "259aab69-41d2-4d4c-af5d-0edd46185e1d",
   "metadata": {},
   "outputs": [
    {
     "data": {
      "text/plain": [
       "Index(['Unnamed: 0', 'trans_date_trans_time', 'cc_num', 'merchant', 'category',\n",
       "       'amt', 'first', 'last', 'gender', 'street', 'city', 'state', 'zip',\n",
       "       'lat', 'long', 'city_pop', 'job', 'dob', 'trans_num', 'unix_time',\n",
       "       'merch_lat', 'merch_long', 'is_fraud'],\n",
       "      dtype='object')"
      ]
     },
     "execution_count": 2,
     "metadata": {},
     "output_type": "execute_result"
    }
   ],
   "source": [
    "fraud.columns"
   ]
  },
  {
   "cell_type": "code",
   "execution_count": null,
   "id": "6d5ae449-2113-420f-9945-369e46890f00",
   "metadata": {},
   "outputs": [],
   "source": [
    "fraud[\"category\"]"
   ]
  },
  {
   "cell_type": "raw",
   "id": "307aaeae-a51b-47ad-bf3c-8a5140554443",
   "metadata": {},
   "source": []
  }
 ],
 "metadata": {
  "kernelspec": {
   "display_name": "Python [conda env:base] *",
   "language": "python",
   "name": "conda-base-py"
  },
  "language_info": {
   "codemirror_mode": {
    "name": "ipython",
    "version": 3
   },
   "file_extension": ".py",
   "mimetype": "text/x-python",
   "name": "python",
   "nbconvert_exporter": "python",
   "pygments_lexer": "ipython3",
   "version": "3.12.7"
  }
 },
 "nbformat": 4,
 "nbformat_minor": 5
}
