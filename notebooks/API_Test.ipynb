{
 "cells": [
  {
   "cell_type": "code",
   "execution_count": 1,
   "id": "fcb0a50a-607a-48c3-b910-5fb5f21ebb02",
   "metadata": {},
   "outputs": [
    {
     "name": "stdout",
     "output_type": "stream",
     "text": [
      "200\n",
      "{'status': 'ok', 'database': 'connected'}\n"
     ]
    }
   ],
   "source": [
    "import requests\n",
    "\n",
    "url = \"http://127.0.0.1:8000/others/health\"\n",
    "headers = {\"x-api-key\": \"mi_clave_secreta_12345\"}\n",
    "response = requests.get(url, headers=headers)\n",
    "\n",
    "print(response.status_code)\n",
    "print(response.json())"
   ]
  },
  {
   "cell_type": "code",
   "execution_count": 2,
   "id": "a8063b69-60b8-4a77-958e-574735743022",
   "metadata": {},
   "outputs": [
    {
     "name": "stdout",
     "output_type": "stream",
     "text": [
      "           country  total_tx  fraud_tx  fraud_rate\n",
      "0          Romania      7859        66    0.008398\n",
      "1       Luxembourg     25540       195    0.007635\n",
      "2          Hungary      6396        45    0.007036\n",
      "3            Spain     90151       632    0.007010\n",
      "4         Portugal     14723        96    0.006520\n",
      "5          Denmark     59270       379    0.006394\n",
      "6          Germany    229623      1458    0.006350\n",
      "7            Italy    116449       715    0.006140\n",
      "8          Ireland     39373       239    0.006070\n",
      "9      Netherlands     76905       460    0.005981\n",
      "10         Belgium     57182       329    0.005754\n",
      "11          Sweden    148565       808    0.005439\n",
      "12         Finland     50652       275    0.005429\n",
      "13          Greece     31783       161    0.005066\n",
      "14         Austria     41186       208    0.005050\n",
      "15          France    226844      1120    0.004937\n",
      "16          Poland     64795       291    0.004491\n",
      "17  Czech Republic      7139        26    0.003642\n",
      "18       Lithuania      2240         3    0.001339\n"
     ]
    }
   ],
   "source": [
    "import pandas as pd\n",
    "\n",
    "url_fraud_country = \"http://127.0.0.1:8000/stats/fraud_by_country\"\n",
    "response_fraud_country = requests.get(url_fraud_country, headers=headers)\n",
    "\n",
    "print(pd.DataFrame(response_fraud_country.json()))"
   ]
  },
  {
   "cell_type": "code",
   "execution_count": 5,
   "id": "414911d9-5f8d-4b26-a57e-8144b7994d13",
   "metadata": {},
   "outputs": [
    {
     "data": {
      "text/html": [
       "<div>\n",
       "<style scoped>\n",
       "    .dataframe tbody tr th:only-of-type {\n",
       "        vertical-align: middle;\n",
       "    }\n",
       "\n",
       "    .dataframe tbody tr th {\n",
       "        vertical-align: top;\n",
       "    }\n",
       "\n",
       "    .dataframe thead th {\n",
       "        text-align: right;\n",
       "    }\n",
       "</style>\n",
       "<table border=\"1\" class=\"dataframe\">\n",
       "  <thead>\n",
       "    <tr style=\"text-align: right;\">\n",
       "      <th></th>\n",
       "      <th>rows_total</th>\n",
       "      <th>rows_used</th>\n",
       "      <th>results</th>\n",
       "    </tr>\n",
       "  </thead>\n",
       "  <tbody>\n",
       "    <tr>\n",
       "      <th>Random Forest</th>\n",
       "      <td>1296675</td>\n",
       "      <td>20000</td>\n",
       "      <td>{'accuracy': 0.9935, 'precision': 0.5, 'recall...</td>\n",
       "    </tr>\n",
       "    <tr>\n",
       "      <th>XGBoost</th>\n",
       "      <td>1296675</td>\n",
       "      <td>20000</td>\n",
       "      <td>{'accuracy': 0.9958, 'precision': 0.8, 'recall...</td>\n",
       "    </tr>\n",
       "    <tr>\n",
       "      <th>LightGBM</th>\n",
       "      <td>1296675</td>\n",
       "      <td>20000</td>\n",
       "      <td>{'accuracy': 0.9948, 'precision': 0.7273, 'rec...</td>\n",
       "    </tr>\n",
       "    <tr>\n",
       "      <th>CatBoost</th>\n",
       "      <td>1296675</td>\n",
       "      <td>20000</td>\n",
       "      <td>{'accuracy': 0.9952, 'precision': 0.7692, 'rec...</td>\n",
       "    </tr>\n",
       "  </tbody>\n",
       "</table>\n",
       "</div>"
      ],
      "text/plain": [
       "               rows_total  rows_used  \\\n",
       "Random Forest     1296675      20000   \n",
       "XGBoost           1296675      20000   \n",
       "LightGBM          1296675      20000   \n",
       "CatBoost          1296675      20000   \n",
       "\n",
       "                                                         results  \n",
       "Random Forest  {'accuracy': 0.9935, 'precision': 0.5, 'recall...  \n",
       "XGBoost        {'accuracy': 0.9958, 'precision': 0.8, 'recall...  \n",
       "LightGBM       {'accuracy': 0.9948, 'precision': 0.7273, 'rec...  \n",
       "CatBoost       {'accuracy': 0.9952, 'precision': 0.7692, 'rec...  "
      ]
     },
     "execution_count": 5,
     "metadata": {},
     "output_type": "execute_result"
    }
   ],
   "source": [
    "import pandas as pd\n",
    "\n",
    "url_ml = \"http://127.0.0.1:8000/ml/advanced_models?sample_size=20000\"\n",
    "response_ml = requests.get(url_ml, headers=headers)\n",
    "\n",
    "pd.DataFrame(response_ml.json())"
   ]
  },
  {
   "cell_type": "code",
   "execution_count": 11,
   "id": "5947d7a8-74a5-4db4-9248-9b9b8f26dd49",
   "metadata": {},
   "outputs": [
    {
     "data": {
      "text/plain": [
       "{'accuracy': 0.9958,\n",
       " 'precision': 0.8,\n",
       " 'recall': 0.4615,\n",
       " 'f1_score': 0.5854,\n",
       " 'confusion_matrix': [{'real': 'No Fraude',\n",
       "   'predicted': 'No Fraude',\n",
       "   'count': 3971},\n",
       "  {'real': 'No Fraude', 'predicted': 'Fraude', 'count': 3},\n",
       "  {'real': 'Fraude', 'predicted': 'No Fraude', 'count': 14},\n",
       "  {'real': 'Fraude', 'predicted': 'Fraude', 'count': 12}]}"
      ]
     },
     "execution_count": 11,
     "metadata": {},
     "output_type": "execute_result"
    }
   ],
   "source": [
    "pd.DataFrame(response_ml.json())[\"results\"].iloc[1]"
   ]
  },
  {
   "cell_type": "code",
   "execution_count": null,
   "id": "a8df1a73-f4f2-4042-b285-b9e8089e086b",
   "metadata": {},
   "outputs": [],
   "source": []
  }
 ],
 "metadata": {
  "kernelspec": {
   "display_name": "Python [conda env:base] *",
   "language": "python",
   "name": "conda-base-py"
  },
  "language_info": {
   "codemirror_mode": {
    "name": "ipython",
    "version": 3
   },
   "file_extension": ".py",
   "mimetype": "text/x-python",
   "name": "python",
   "nbconvert_exporter": "python",
   "pygments_lexer": "ipython3",
   "version": "3.12.7"
  }
 },
 "nbformat": 4,
 "nbformat_minor": 5
}
