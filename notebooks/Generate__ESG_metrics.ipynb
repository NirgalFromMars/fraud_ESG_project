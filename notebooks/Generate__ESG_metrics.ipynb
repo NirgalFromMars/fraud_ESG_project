{
 "cells": [
  {
   "cell_type": "code",
   "execution_count": 1,
   "id": "4563b93e-cafa-448f-aa41-ef69b537ed80",
   "metadata": {
    "scrolled": true
   },
   "outputs": [],
   "source": [
    "import pandas as pd\n",
    "import numpy as np\n",
    "\n",
    "# 1. Load datasets (list of companies and sinthetic UE metrics thresholds)\n",
    "companies = pd.read_csv(\"./list companies/companies_list.csv\", encoding=\"latin1\")\n",
    "thresholds = pd.read_csv(\"thresholds_ESG.csv\")"
   ]
  },
  {
   "cell_type": "code",
   "execution_count": 2,
   "id": "8b57ebfa-9341-4128-be2d-f6dae7cf53b4",
   "metadata": {},
   "outputs": [],
   "source": [
    "# 2. Generate sinthetic ESG metrics for every company in the list\n",
    "def generate_metrics(row):\n",
    "    sector_thresholds = thresholds[thresholds['sector'] == row['sector']].iloc[0]\n",
    "    return pd.Series({\n",
    "        \"co2_emissions\": sector_thresholds['co2_emissions'] * np.random.uniform(0.7, 1.2),\n",
    "        \"energy_consumption_mwh\": sector_thresholds['energy_consumption_mwh'] * np.random.uniform(0.8, 1.3),\n",
    "        \"%_renewable_energy\": sector_thresholds['%_renewable_energy'] * np.random.uniform(0.5, 1.3),\n",
    "        \"waste_generated_tons\": sector_thresholds['waste_generated_tons'] * np.random.uniform(0.8, 1.3),\n",
    "        \"water_withdrawal_m3\": sector_thresholds['water_withdrawal_m3'] * np.random.uniform(0.8, 1.4),\n",
    "    })\n",
    "\n",
    "metrics = companies.apply(generate_metrics, axis=1)\n",
    "companies_esg = pd.concat([companies, metrics.round(2)], axis=1)"
   ]
  },
  {
   "cell_type": "code",
   "execution_count": 3,
   "id": "0dab53c6-7189-4e96-afc8-9815838c6a57",
   "metadata": {},
   "outputs": [],
   "source": [
    "# 3. Save final dataset\n",
    "companies_esg.to_csv(\"esg_metrics.csv\", index=False)"
   ]
  }
 ],
 "metadata": {
  "kernelspec": {
   "display_name": "Python [conda env:base] *",
   "language": "python",
   "name": "conda-base-py"
  },
  "language_info": {
   "codemirror_mode": {
    "name": "ipython",
    "version": 3
   },
   "file_extension": ".py",
   "mimetype": "text/x-python",
   "name": "python",
   "nbconvert_exporter": "python",
   "pygments_lexer": "ipython3",
   "version": "3.12.7"
  }
 },
 "nbformat": 4,
 "nbformat_minor": 5
}
